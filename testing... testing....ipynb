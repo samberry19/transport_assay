{
 "cells": [
  {
   "cell_type": "code",
   "execution_count": 2,
   "id": "0e49a2b1",
   "metadata": {},
   "outputs": [
    {
     "name": "stdout",
     "output_type": "stream",
     "text": [
      "/Users/sam/Documents/GitHub/transport_assay/PlateData\n"
     ]
    }
   ],
   "source": [
    "cd PlateData"
   ]
  },
  {
   "cell_type": "code",
   "execution_count": 3,
   "id": "ce4198b7",
   "metadata": {},
   "outputs": [],
   "source": [
    "from PlateData import *"
   ]
  },
  {
   "cell_type": "code",
   "execution_count": 6,
   "id": "a4ae2e64",
   "metadata": {},
   "outputs": [
    {
     "ename": "AttributeError",
     "evalue": "'str' object has no attribute 'hour'",
     "output_type": "error",
     "traceback": [
      "\u001b[0;31m---------------------------------------------------------------------------\u001b[0m",
      "\u001b[0;31mAttributeError\u001b[0m                            Traceback (most recent call last)",
      "Input \u001b[0;32mIn [6]\u001b[0m, in \u001b[0;36m<cell line: 4>\u001b[0;34m()\u001b[0m\n\u001b[1;32m      1\u001b[0m directory \u001b[38;5;241m=\u001b[39m  \u001b[38;5;124m\"\u001b[39m\u001b[38;5;124m/Users/sam/Dropbox (Harvard University)/Data/Mn_reporter_assay/\u001b[39m\u001b[38;5;124m\"\u001b[39m\n\u001b[1;32m      2\u001b[0m filename \u001b[38;5;241m=\u001b[39m \u001b[38;5;124m\"\u001b[39m\u001b[38;5;124mSB_040622.xlsx\u001b[39m\u001b[38;5;124m\"\u001b[39m\n\u001b[0;32m----> 4\u001b[0m RFU \u001b[38;5;241m=\u001b[39m \u001b[43mread_Mn_assay_excel\u001b[49m\u001b[43m(\u001b[49m\u001b[43mfilename\u001b[49m\u001b[43m,\u001b[49m\u001b[43m \u001b[49m\u001b[43mdirectory\u001b[49m\u001b[38;5;241;43m=\u001b[39;49m\u001b[43mdirectory\u001b[49m\u001b[43m,\u001b[49m\u001b[43m \u001b[49m\u001b[43minitial_guess\u001b[49m\u001b[38;5;241;43m=\u001b[39;49m\u001b[38;5;241;43m20\u001b[39;49m\u001b[43m)\u001b[49m\n\u001b[1;32m      5\u001b[0m OD600 \u001b[38;5;241m=\u001b[39m read_Mn_assay_excel(filename, directory\u001b[38;5;241m=\u001b[39mdirectory, initial_guess\u001b[38;5;241m=\u001b[39m\u001b[38;5;241m200\u001b[39m)\n\u001b[1;32m      7\u001b[0m row_annotations \u001b[38;5;241m=\u001b[39m {\u001b[38;5;124m'\u001b[39m\u001b[38;5;124m[MnCl2]\u001b[39m\u001b[38;5;124m'\u001b[39m: [np\u001b[38;5;241m.\u001b[39mnan, \u001b[38;5;241m1000\u001b[39m, \u001b[38;5;241m100\u001b[39m, \u001b[38;5;241m10\u001b[39m, \u001b[38;5;241m1\u001b[39m, \u001b[38;5;241m0\u001b[39m, \u001b[38;5;241m1000\u001b[39m, np\u001b[38;5;241m.\u001b[39mnan],\n\u001b[1;32m      8\u001b[0m                    \u001b[38;5;124m'\u001b[39m\u001b[38;5;124muse_row\u001b[39m\u001b[38;5;124m'\u001b[39m: [\u001b[38;5;28;01mFalse\u001b[39;00m, \u001b[38;5;28;01mTrue\u001b[39;00m, \u001b[38;5;28;01mTrue\u001b[39;00m, \u001b[38;5;28;01mTrue\u001b[39;00m, \u001b[38;5;28;01mTrue\u001b[39;00m, \u001b[38;5;28;01mTrue\u001b[39;00m, \u001b[38;5;28;01mTrue\u001b[39;00m, \u001b[38;5;28;01mFalse\u001b[39;00m]}\n",
      "File \u001b[0;32m~/Documents/GitHub/transport_assay/PlateData/PlateData.py:297\u001b[0m, in \u001b[0;36mread_Mn_assay_excel\u001b[0;34m(filename, sheets, directory, t_offset, initial_guess, n_guesses)\u001b[0m\n\u001b[1;32m    294\u001b[0m         t_off \u001b[38;5;241m=\u001b[39m np\u001b[38;5;241m.\u001b[39mmax(data_holder[\u001b[38;5;241m-\u001b[39m\u001b[38;5;241m1\u001b[39m][\u001b[38;5;124m\"\u001b[39m\u001b[38;5;124mTime\u001b[39m\u001b[38;5;124m\"\u001b[39m]) \u001b[38;5;241m+\u001b[39m n\u001b[38;5;241m*\u001b[39mt_offset\n\u001b[1;32m    296\u001b[0m     \u001b[38;5;66;03m# Conver the time measurement into minutes\u001b[39;00m\n\u001b[0;32m--> 297\u001b[0m     X[\u001b[38;5;124m\"\u001b[39m\u001b[38;5;124mTime\u001b[39m\u001b[38;5;124m\"\u001b[39m] \u001b[38;5;241m=\u001b[39m [time\u001b[38;5;241m.\u001b[39mhour\u001b[38;5;241m*\u001b[39m\u001b[38;5;241m60\u001b[39m \u001b[38;5;241m+\u001b[39m time\u001b[38;5;241m.\u001b[39mminute \u001b[38;5;241m+\u001b[39m time\u001b[38;5;241m.\u001b[39msecond \u001b[38;5;241m/\u001b[39m \u001b[38;5;241m60\u001b[39m \u001b[38;5;241m+\u001b[39m t_off \u001b[38;5;28;01mfor\u001b[39;00m time \u001b[38;5;129;01min\u001b[39;00m X[\u001b[38;5;124m\"\u001b[39m\u001b[38;5;124mTime\u001b[39m\u001b[38;5;124m\"\u001b[39m]]\n\u001b[1;32m    298\u001b[0m     data_holder\u001b[38;5;241m.\u001b[39mappend(X)\n\u001b[1;32m    300\u001b[0m \u001b[38;5;66;03m# concatenate all data into a single data frame\u001b[39;00m\n",
      "File \u001b[0;32m~/Documents/GitHub/transport_assay/PlateData/PlateData.py:297\u001b[0m, in \u001b[0;36m<listcomp>\u001b[0;34m(.0)\u001b[0m\n\u001b[1;32m    294\u001b[0m         t_off \u001b[38;5;241m=\u001b[39m np\u001b[38;5;241m.\u001b[39mmax(data_holder[\u001b[38;5;241m-\u001b[39m\u001b[38;5;241m1\u001b[39m][\u001b[38;5;124m\"\u001b[39m\u001b[38;5;124mTime\u001b[39m\u001b[38;5;124m\"\u001b[39m]) \u001b[38;5;241m+\u001b[39m n\u001b[38;5;241m*\u001b[39mt_offset\n\u001b[1;32m    296\u001b[0m     \u001b[38;5;66;03m# Conver the time measurement into minutes\u001b[39;00m\n\u001b[0;32m--> 297\u001b[0m     X[\u001b[38;5;124m\"\u001b[39m\u001b[38;5;124mTime\u001b[39m\u001b[38;5;124m\"\u001b[39m] \u001b[38;5;241m=\u001b[39m [\u001b[43mtime\u001b[49m\u001b[38;5;241;43m.\u001b[39;49m\u001b[43mhour\u001b[49m\u001b[38;5;241m*\u001b[39m\u001b[38;5;241m60\u001b[39m \u001b[38;5;241m+\u001b[39m time\u001b[38;5;241m.\u001b[39mminute \u001b[38;5;241m+\u001b[39m time\u001b[38;5;241m.\u001b[39msecond \u001b[38;5;241m/\u001b[39m \u001b[38;5;241m60\u001b[39m \u001b[38;5;241m+\u001b[39m t_off \u001b[38;5;28;01mfor\u001b[39;00m time \u001b[38;5;129;01min\u001b[39;00m X[\u001b[38;5;124m\"\u001b[39m\u001b[38;5;124mTime\u001b[39m\u001b[38;5;124m\"\u001b[39m]]\n\u001b[1;32m    298\u001b[0m     data_holder\u001b[38;5;241m.\u001b[39mappend(X)\n\u001b[1;32m    300\u001b[0m \u001b[38;5;66;03m# concatenate all data into a single data frame\u001b[39;00m\n",
      "\u001b[0;31mAttributeError\u001b[0m: 'str' object has no attribute 'hour'"
     ]
    }
   ],
   "source": [
    "directory =  \"/Users/sam/Dropbox (Harvard University)/Data/Mn_reporter_assay/\"\n",
    "filename = \"SB_040622.xlsx\"\n",
    "\n",
    "RFU = read_Mn_assay_excel(filename, directory=directory, initial_guess=20)\n",
    "OD600 = read_Mn_assay_excel(filename, directory=directory, initial_guess=200)\n",
    "\n",
    "row_annotations = {'[MnCl2]': [np.nan, 1000, 100, 10, 1, 0, 1000, np.nan],\n",
    "                   'use_row': [False, True, True, True, True, True, True, False]}\n",
    "\n",
    "col_annotations = {'reporter': ['NaN', 'pSB1-EV', 'pSB1em2', 'pSB1em2', 'pSB1em2', 'pSB1em2', \n",
    "                                       'pSB1-EV', 'pSB1em2', 'pSB1em2', 'pSB1em2', 'pSB1em2', 'NaN'],\n",
    "                   'construct': ['NaN', 'EV', 'Drad 1', 'Drad 2', 'Drad 3', 'DraNramp D56A',\n",
    "                                        'EV', 'Drad 1', 'Drad 2', 'Drad 3', 'DraNramp D56A', 'NaN'],\n",
    "                   'sample': [0,1,2,3,4,5,1,2,3,4,5,0],\n",
    "                   'use_col': [False, True, True, True, True, True, True, True, True, True, True, False],\n",
    "                   'rep': [-1, 0, 0, 0, 0, 0, 1, 1, 1, 1, 1, -1]}\n",
    "\n",
    "Exp_0406 = PlateAssay((RFU, OD600), df_keys=(\"RFU\", \"OD\"), \n",
    "                 row_annotations=row_annotations, col_annotations=col_annotations)"
   ]
  },
  {
   "cell_type": "code",
   "execution_count": 8,
   "id": "8031ecd1",
   "metadata": {},
   "outputs": [
    {
     "ename": "AttributeError",
     "evalue": "'str' object has no attribute 'hour'",
     "output_type": "error",
     "traceback": [
      "\u001b[0;31m---------------------------------------------------------------------------\u001b[0m",
      "\u001b[0;31mAttributeError\u001b[0m                            Traceback (most recent call last)",
      "Input \u001b[0;32mIn [8]\u001b[0m, in \u001b[0;36m<cell line: 1>\u001b[0;34m()\u001b[0m\n\u001b[0;32m----> 1\u001b[0m RFU \u001b[38;5;241m=\u001b[39m \u001b[43mread_Mn_assay_excel\u001b[49m\u001b[43m(\u001b[49m\u001b[43mfilename\u001b[49m\u001b[43m,\u001b[49m\u001b[43m \u001b[49m\u001b[43mdirectory\u001b[49m\u001b[38;5;241;43m=\u001b[39;49m\u001b[43mdirectory\u001b[49m\u001b[43m,\u001b[49m\u001b[43m \u001b[49m\u001b[43minitial_guess\u001b[49m\u001b[38;5;241;43m=\u001b[39;49m\u001b[38;5;241;43m20\u001b[39;49m\u001b[43m)\u001b[49m\n",
      "File \u001b[0;32m~/Documents/GitHub/transport_assay/PlateData/PlateData.py:297\u001b[0m, in \u001b[0;36mread_Mn_assay_excel\u001b[0;34m(filename, sheets, directory, t_offset, initial_guess, n_guesses)\u001b[0m\n\u001b[1;32m    294\u001b[0m         t_off \u001b[38;5;241m=\u001b[39m np\u001b[38;5;241m.\u001b[39mmax(data_holder[\u001b[38;5;241m-\u001b[39m\u001b[38;5;241m1\u001b[39m][\u001b[38;5;124m\"\u001b[39m\u001b[38;5;124mTime\u001b[39m\u001b[38;5;124m\"\u001b[39m]) \u001b[38;5;241m+\u001b[39m n\u001b[38;5;241m*\u001b[39mt_offset\n\u001b[1;32m    296\u001b[0m     \u001b[38;5;66;03m# Conver the time measurement into minutes\u001b[39;00m\n\u001b[0;32m--> 297\u001b[0m     X[\u001b[38;5;124m\"\u001b[39m\u001b[38;5;124mTime\u001b[39m\u001b[38;5;124m\"\u001b[39m] \u001b[38;5;241m=\u001b[39m [time\u001b[38;5;241m.\u001b[39mhour\u001b[38;5;241m*\u001b[39m\u001b[38;5;241m60\u001b[39m \u001b[38;5;241m+\u001b[39m time\u001b[38;5;241m.\u001b[39mminute \u001b[38;5;241m+\u001b[39m time\u001b[38;5;241m.\u001b[39msecond \u001b[38;5;241m/\u001b[39m \u001b[38;5;241m60\u001b[39m \u001b[38;5;241m+\u001b[39m t_off \u001b[38;5;28;01mfor\u001b[39;00m time \u001b[38;5;129;01min\u001b[39;00m X[\u001b[38;5;124m\"\u001b[39m\u001b[38;5;124mTime\u001b[39m\u001b[38;5;124m\"\u001b[39m]]\n\u001b[1;32m    298\u001b[0m     data_holder\u001b[38;5;241m.\u001b[39mappend(X)\n\u001b[1;32m    300\u001b[0m \u001b[38;5;66;03m# concatenate all data into a single data frame\u001b[39;00m\n",
      "File \u001b[0;32m~/Documents/GitHub/transport_assay/PlateData/PlateData.py:297\u001b[0m, in \u001b[0;36m<listcomp>\u001b[0;34m(.0)\u001b[0m\n\u001b[1;32m    294\u001b[0m         t_off \u001b[38;5;241m=\u001b[39m np\u001b[38;5;241m.\u001b[39mmax(data_holder[\u001b[38;5;241m-\u001b[39m\u001b[38;5;241m1\u001b[39m][\u001b[38;5;124m\"\u001b[39m\u001b[38;5;124mTime\u001b[39m\u001b[38;5;124m\"\u001b[39m]) \u001b[38;5;241m+\u001b[39m n\u001b[38;5;241m*\u001b[39mt_offset\n\u001b[1;32m    296\u001b[0m     \u001b[38;5;66;03m# Conver the time measurement into minutes\u001b[39;00m\n\u001b[0;32m--> 297\u001b[0m     X[\u001b[38;5;124m\"\u001b[39m\u001b[38;5;124mTime\u001b[39m\u001b[38;5;124m\"\u001b[39m] \u001b[38;5;241m=\u001b[39m [\u001b[43mtime\u001b[49m\u001b[38;5;241;43m.\u001b[39;49m\u001b[43mhour\u001b[49m\u001b[38;5;241m*\u001b[39m\u001b[38;5;241m60\u001b[39m \u001b[38;5;241m+\u001b[39m time\u001b[38;5;241m.\u001b[39mminute \u001b[38;5;241m+\u001b[39m time\u001b[38;5;241m.\u001b[39msecond \u001b[38;5;241m/\u001b[39m \u001b[38;5;241m60\u001b[39m \u001b[38;5;241m+\u001b[39m t_off \u001b[38;5;28;01mfor\u001b[39;00m time \u001b[38;5;129;01min\u001b[39;00m X[\u001b[38;5;124m\"\u001b[39m\u001b[38;5;124mTime\u001b[39m\u001b[38;5;124m\"\u001b[39m]]\n\u001b[1;32m    298\u001b[0m     data_holder\u001b[38;5;241m.\u001b[39mappend(X)\n\u001b[1;32m    300\u001b[0m \u001b[38;5;66;03m# concatenate all data into a single data frame\u001b[39;00m\n",
      "\u001b[0;31mAttributeError\u001b[0m: 'str' object has no attribute 'hour'"
     ]
    }
   ],
   "source": [
    "RFU = read_Mn_assay_excel(filename, directory=directory, initial_guess=10, n_guesses=)"
   ]
  },
  {
   "cell_type": "code",
   "execution_count": null,
   "id": "1afe0569",
   "metadata": {},
   "outputs": [],
   "source": [
    "OD600 = read_Mn_assay_excel(filename, directory=directory, initial_guess=200)"
   ]
  },
  {
   "cell_type": "code",
   "execution_count": null,
   "id": "5e889cad",
   "metadata": {},
   "outputs": [],
   "source": []
  }
 ],
 "metadata": {
  "kernelspec": {
   "display_name": "sequences",
   "language": "python",
   "name": "sequences"
  },
  "language_info": {
   "codemirror_mode": {
    "name": "ipython",
    "version": 3
   },
   "file_extension": ".py",
   "mimetype": "text/x-python",
   "name": "python",
   "nbconvert_exporter": "python",
   "pygments_lexer": "ipython3",
   "version": "3.10.4"
  }
 },
 "nbformat": 4,
 "nbformat_minor": 5
}
